{
 "cells": [
  {
   "cell_type": "code",
   "execution_count": 16,
   "id": "42346d63",
   "metadata": {},
   "outputs": [],
   "source": [
    "import pandas as pd\n",
    "import numpy as np\n",
    "import matplotlib.pyplot as plt\n",
    "import seaborn as sns\n",
    "\n",
    "train = pd.read_csv('train.csv')\n"
   ]
  },
  {
   "cell_type": "code",
   "execution_count": 17,
   "id": "8502794d",
   "metadata": {},
   "outputs": [
    {
     "data": {
      "text/html": [
       "<div>\n",
       "<style scoped>\n",
       "    .dataframe tbody tr th:only-of-type {\n",
       "        vertical-align: middle;\n",
       "    }\n",
       "\n",
       "    .dataframe tbody tr th {\n",
       "        vertical-align: top;\n",
       "    }\n",
       "\n",
       "    .dataframe thead th {\n",
       "        text-align: right;\n",
       "    }\n",
       "</style>\n",
       "<table border=\"1\" class=\"dataframe\">\n",
       "  <thead>\n",
       "    <tr style=\"text-align: right;\">\n",
       "      <th></th>\n",
       "      <th>s13</th>\n",
       "      <th>s48</th>\n",
       "      <th>s56</th>\n",
       "      <th>s57</th>\n",
       "      <th>s59</th>\n",
       "      <th>n1</th>\n",
       "      <th>n2</th>\n",
       "      <th>n3</th>\n",
       "      <th>n4</th>\n",
       "      <th>n5</th>\n",
       "      <th>...</th>\n",
       "      <th>n7</th>\n",
       "      <th>n8</th>\n",
       "      <th>n9</th>\n",
       "      <th>n10</th>\n",
       "      <th>n11</th>\n",
       "      <th>n12</th>\n",
       "      <th>n13</th>\n",
       "      <th>n14</th>\n",
       "      <th>n15</th>\n",
       "      <th>label</th>\n",
       "    </tr>\n",
       "  </thead>\n",
       "  <tbody>\n",
       "    <tr>\n",
       "      <th>count</th>\n",
       "      <td>28322.000000</td>\n",
       "      <td>28322.000000</td>\n",
       "      <td>0.0</td>\n",
       "      <td>0.0</td>\n",
       "      <td>0.0</td>\n",
       "      <td>28322.000000</td>\n",
       "      <td>28322.000000</td>\n",
       "      <td>28322.000000</td>\n",
       "      <td>28322.000000</td>\n",
       "      <td>28322.000000</td>\n",
       "      <td>...</td>\n",
       "      <td>28322.000000</td>\n",
       "      <td>28322.000000</td>\n",
       "      <td>28322.000000</td>\n",
       "      <td>28322.000000</td>\n",
       "      <td>28322.000000</td>\n",
       "      <td>28322.000000</td>\n",
       "      <td>28322.000000</td>\n",
       "      <td>28322.000000</td>\n",
       "      <td>28322.000000</td>\n",
       "      <td>28322.000000</td>\n",
       "    </tr>\n",
       "    <tr>\n",
       "      <th>mean</th>\n",
       "      <td>0.983123</td>\n",
       "      <td>0.433338</td>\n",
       "      <td>NaN</td>\n",
       "      <td>NaN</td>\n",
       "      <td>NaN</td>\n",
       "      <td>10.201863</td>\n",
       "      <td>1.600111</td>\n",
       "      <td>4.805099</td>\n",
       "      <td>5.080537</td>\n",
       "      <td>-32.641183</td>\n",
       "      <td>...</td>\n",
       "      <td>-9.107429</td>\n",
       "      <td>1.612428</td>\n",
       "      <td>5.232644</td>\n",
       "      <td>6.115109</td>\n",
       "      <td>1.699553</td>\n",
       "      <td>0.009992</td>\n",
       "      <td>0.089506</td>\n",
       "      <td>0.497570</td>\n",
       "      <td>2.997740</td>\n",
       "      <td>0.168067</td>\n",
       "    </tr>\n",
       "    <tr>\n",
       "      <th>std</th>\n",
       "      <td>0.128814</td>\n",
       "      <td>0.495545</td>\n",
       "      <td>NaN</td>\n",
       "      <td>NaN</td>\n",
       "      <td>NaN</td>\n",
       "      <td>4.414660</td>\n",
       "      <td>0.664985</td>\n",
       "      <td>2.199282</td>\n",
       "      <td>2.276162</td>\n",
       "      <td>0.241453</td>\n",
       "      <td>...</td>\n",
       "      <td>0.205200</td>\n",
       "      <td>0.173560</td>\n",
       "      <td>2.179705</td>\n",
       "      <td>2.474138</td>\n",
       "      <td>0.115150</td>\n",
       "      <td>0.099462</td>\n",
       "      <td>0.285478</td>\n",
       "      <td>0.289207</td>\n",
       "      <td>2.007611</td>\n",
       "      <td>0.373933</td>\n",
       "    </tr>\n",
       "    <tr>\n",
       "      <th>min</th>\n",
       "      <td>0.000000</td>\n",
       "      <td>0.000000</td>\n",
       "      <td>NaN</td>\n",
       "      <td>NaN</td>\n",
       "      <td>NaN</td>\n",
       "      <td>2.200736</td>\n",
       "      <td>0.311727</td>\n",
       "      <td>0.000000</td>\n",
       "      <td>1.700370</td>\n",
       "      <td>-33.167589</td>\n",
       "      <td>...</td>\n",
       "      <td>-9.517986</td>\n",
       "      <td>1.178469</td>\n",
       "      <td>2.508858</td>\n",
       "      <td>1.173465</td>\n",
       "      <td>1.500006</td>\n",
       "      <td>0.000000</td>\n",
       "      <td>0.000000</td>\n",
       "      <td>0.000101</td>\n",
       "      <td>0.000000</td>\n",
       "      <td>0.000000</td>\n",
       "    </tr>\n",
       "    <tr>\n",
       "      <th>25%</th>\n",
       "      <td>1.000000</td>\n",
       "      <td>0.000000</td>\n",
       "      <td>NaN</td>\n",
       "      <td>NaN</td>\n",
       "      <td>NaN</td>\n",
       "      <td>6.592127</td>\n",
       "      <td>1.013540</td>\n",
       "      <td>3.000000</td>\n",
       "      <td>2.833161</td>\n",
       "      <td>-32.862207</td>\n",
       "      <td>...</td>\n",
       "      <td>-9.258473</td>\n",
       "      <td>1.489924</td>\n",
       "      <td>3.464229</td>\n",
       "      <td>4.414671</td>\n",
       "      <td>1.600056</td>\n",
       "      <td>0.000000</td>\n",
       "      <td>0.000000</td>\n",
       "      <td>0.247801</td>\n",
       "      <td>1.000000</td>\n",
       "      <td>0.000000</td>\n",
       "    </tr>\n",
       "    <tr>\n",
       "      <th>50%</th>\n",
       "      <td>1.000000</td>\n",
       "      <td>0.000000</td>\n",
       "      <td>NaN</td>\n",
       "      <td>NaN</td>\n",
       "      <td>NaN</td>\n",
       "      <td>9.535961</td>\n",
       "      <td>1.462197</td>\n",
       "      <td>5.000000</td>\n",
       "      <td>4.840320</td>\n",
       "      <td>-32.577026</td>\n",
       "      <td>...</td>\n",
       "      <td>-9.174557</td>\n",
       "      <td>1.537263</td>\n",
       "      <td>4.461770</td>\n",
       "      <td>5.317154</td>\n",
       "      <td>1.698556</td>\n",
       "      <td>0.000000</td>\n",
       "      <td>0.000000</td>\n",
       "      <td>0.495255</td>\n",
       "      <td>3.000000</td>\n",
       "      <td>0.000000</td>\n",
       "    </tr>\n",
       "    <tr>\n",
       "      <th>75%</th>\n",
       "      <td>1.000000</td>\n",
       "      <td>1.000000</td>\n",
       "      <td>NaN</td>\n",
       "      <td>NaN</td>\n",
       "      <td>NaN</td>\n",
       "      <td>14.432580</td>\n",
       "      <td>2.194510</td>\n",
       "      <td>6.000000</td>\n",
       "      <td>7.300738</td>\n",
       "      <td>-32.396733</td>\n",
       "      <td>...</td>\n",
       "      <td>-8.964786</td>\n",
       "      <td>1.730249</td>\n",
       "      <td>6.524341</td>\n",
       "      <td>7.027610</td>\n",
       "      <td>1.799238</td>\n",
       "      <td>0.000000</td>\n",
       "      <td>0.000000</td>\n",
       "      <td>0.748786</td>\n",
       "      <td>5.000000</td>\n",
       "      <td>0.000000</td>\n",
       "    </tr>\n",
       "    <tr>\n",
       "      <th>max</th>\n",
       "      <td>1.000000</td>\n",
       "      <td>1.000000</td>\n",
       "      <td>NaN</td>\n",
       "      <td>NaN</td>\n",
       "      <td>NaN</td>\n",
       "      <td>20.882733</td>\n",
       "      <td>3.137331</td>\n",
       "      <td>9.000000</td>\n",
       "      <td>8.594620</td>\n",
       "      <td>-32.289180</td>\n",
       "      <td>...</td>\n",
       "      <td>-8.586583</td>\n",
       "      <td>2.173593</td>\n",
       "      <td>11.214870</td>\n",
       "      <td>12.029135</td>\n",
       "      <td>1.899995</td>\n",
       "      <td>1.000000</td>\n",
       "      <td>1.000000</td>\n",
       "      <td>0.999990</td>\n",
       "      <td>6.000000</td>\n",
       "      <td>1.000000</td>\n",
       "    </tr>\n",
       "  </tbody>\n",
       "</table>\n",
       "<p>8 rows × 21 columns</p>\n",
       "</div>"
      ],
      "text/plain": [
       "                s13           s48  s56  s57  s59            n1            n2  \\\n",
       "count  28322.000000  28322.000000  0.0  0.0  0.0  28322.000000  28322.000000   \n",
       "mean       0.983123      0.433338  NaN  NaN  NaN     10.201863      1.600111   \n",
       "std        0.128814      0.495545  NaN  NaN  NaN      4.414660      0.664985   \n",
       "min        0.000000      0.000000  NaN  NaN  NaN      2.200736      0.311727   \n",
       "25%        1.000000      0.000000  NaN  NaN  NaN      6.592127      1.013540   \n",
       "50%        1.000000      0.000000  NaN  NaN  NaN      9.535961      1.462197   \n",
       "75%        1.000000      1.000000  NaN  NaN  NaN     14.432580      2.194510   \n",
       "max        1.000000      1.000000  NaN  NaN  NaN     20.882733      3.137331   \n",
       "\n",
       "                 n3            n4            n5  ...            n7  \\\n",
       "count  28322.000000  28322.000000  28322.000000  ...  28322.000000   \n",
       "mean       4.805099      5.080537    -32.641183  ...     -9.107429   \n",
       "std        2.199282      2.276162      0.241453  ...      0.205200   \n",
       "min        0.000000      1.700370    -33.167589  ...     -9.517986   \n",
       "25%        3.000000      2.833161    -32.862207  ...     -9.258473   \n",
       "50%        5.000000      4.840320    -32.577026  ...     -9.174557   \n",
       "75%        6.000000      7.300738    -32.396733  ...     -8.964786   \n",
       "max        9.000000      8.594620    -32.289180  ...     -8.586583   \n",
       "\n",
       "                 n8            n9           n10           n11           n12  \\\n",
       "count  28322.000000  28322.000000  28322.000000  28322.000000  28322.000000   \n",
       "mean       1.612428      5.232644      6.115109      1.699553      0.009992   \n",
       "std        0.173560      2.179705      2.474138      0.115150      0.099462   \n",
       "min        1.178469      2.508858      1.173465      1.500006      0.000000   \n",
       "25%        1.489924      3.464229      4.414671      1.600056      0.000000   \n",
       "50%        1.537263      4.461770      5.317154      1.698556      0.000000   \n",
       "75%        1.730249      6.524341      7.027610      1.799238      0.000000   \n",
       "max        2.173593     11.214870     12.029135      1.899995      1.000000   \n",
       "\n",
       "                n13           n14           n15         label  \n",
       "count  28322.000000  28322.000000  28322.000000  28322.000000  \n",
       "mean       0.089506      0.497570      2.997740      0.168067  \n",
       "std        0.285478      0.289207      2.007611      0.373933  \n",
       "min        0.000000      0.000101      0.000000      0.000000  \n",
       "25%        0.000000      0.247801      1.000000      0.000000  \n",
       "50%        0.000000      0.495255      3.000000      0.000000  \n",
       "75%        0.000000      0.748786      5.000000      0.000000  \n",
       "max        1.000000      0.999990      6.000000      1.000000  \n",
       "\n",
       "[8 rows x 21 columns]"
      ]
     },
     "execution_count": 17,
     "metadata": {},
     "output_type": "execute_result"
    }
   ],
   "source": [
    "train.describe()"
   ]
  },
  {
   "cell_type": "code",
   "execution_count": 33,
   "id": "5354b663",
   "metadata": {},
   "outputs": [],
   "source": [
    "#Dropping all columns with all nan values\n",
    "\n",
    "train.dropna(how = 'all', axis='columns', inplace=True)"
   ]
  },
  {
   "cell_type": "code",
   "execution_count": 34,
   "id": "b484ac3b",
   "metadata": {},
   "outputs": [
    {
     "data": {
      "text/plain": [
       "Index(['id', 'gender', 's11', 's12', 's13', 's16', 's17', 's18', 's48', 's52',\n",
       "       's53', 's54', 's55', 's58', 's69', 's70', 's71', 'n1', 'n2', 'n3', 'n4',\n",
       "       'n5', 'n6', 'n7', 'n8', 'n9', 'n10', 'n11', 'n12', 'n13', 'n14', 'n15',\n",
       "       'label'],\n",
       "      dtype='object')"
      ]
     },
     "execution_count": 34,
     "metadata": {},
     "output_type": "execute_result"
    }
   ],
   "source": [
    "#Finding names of all columns\n",
    "train.columns"
   ]
  },
  {
   "cell_type": "code",
   "execution_count": 63,
   "id": "ce07c9a8",
   "metadata": {},
   "outputs": [
    {
     "name": "stdout",
     "output_type": "stream",
     "text": [
      "gender\n",
      "['M' 'F']\n",
      "s11\n",
      "['Y' 'N']\n",
      "s12\n",
      "['N' 'Y']\n",
      "s13\n",
      "[1 0]\n",
      "s16\n",
      "['D' 'B' 'C' 'A']\n",
      "s17\n",
      "['D' 'C' 'B' 'A']\n",
      "s18\n",
      "['B' 'D' 'C' 'A']\n",
      "s48\n",
      "[0 1]\n",
      "s52\n",
      "['1' 'l' '0' 'o']\n",
      "s53\n",
      "['  ' ' ']\n",
      "s54\n",
      "[nan 'b2' 'aa' '22' '2a' '2b' 'a2' 'bb' 'ab' 'ba']\n",
      "s55\n",
      "['kK' nan 'kk' '2K' 'k2' 'KK' '22' 'K2' '2k' 'Kk']\n",
      "s58\n",
      "['B' 'A']\n",
      "s69\n",
      "['x' '~1' 'C`' '0']\n",
      "s70\n",
      "['op: D' 'op: C' 'op: B' 'op: A']\n",
      "s71\n",
      "['b' 'd' 'c' 'a']\n"
     ]
    }
   ],
   "source": [
    "# Lets see how many kinds of values dominate for the columns\n",
    "\n",
    "unique_cols = train[['gender','s11', 's12', 's13', 's16', 's17', 's18', 's48', 's52',\n",
    "       's53', 's54', 's55', 's58', 's69', 's70', 's71']]\n",
    "\n",
    "for col in unique_cols.columns:\n",
    "    print(col)\n",
    "    print(unique_cols[col].unique())"
   ]
  },
  {
   "cell_type": "code",
   "execution_count": 78,
   "id": "e835facf",
   "metadata": {},
   "outputs": [
    {
     "data": {
      "text/plain": [
       "0    23562\n",
       "1     4760\n",
       "Name: label, dtype: int64"
      ]
     },
     "execution_count": 78,
     "metadata": {},
     "output_type": "execute_result"
    }
   ],
   "source": [
    "train['label'].value_counts()"
   ]
  },
  {
   "cell_type": "markdown",
   "id": "be5adc51",
   "metadata": {},
   "source": [
    "## Starting the Visualization"
   ]
  },
  {
   "cell_type": "code",
   "execution_count": 76,
   "id": "9f0eb4af",
   "metadata": {
    "scrolled": false
   },
   "outputs": [
    {
     "data": {
      "image/png": "[encoded data removed]",
      "text/plain": [
       "<Figure size 432x288 with 1 Axes>"
      ]
     },
     "metadata": {
      "needs_background": "light"
     },
     "output_type": "display_data"
    },
    {
     "data": {
      "image/png": "[encoded data removed]",
      "text/plain": [
       "<Figure size 432x288 with 1 Axes>"
      ]
     },
     "metadata": {
      "needs_background": "light"
     },
     "output_type": "display_data"
    },
    {
     "data": {
      "image/png": "[encoded data removed]",
      "text/plain": [
       "<Figure size 432x288 with 1 Axes>"
      ]
     },
     "metadata": {
      "needs_background": "light"
     },
     "output_type": "display_data"
    },
    {
     "data": {
      "image/png": "[encoded data removed]",
      "text/plain": [
       "<Figure size 432x288 with 1 Axes>"
      ]
     },
     "metadata": {
      "needs_background": "light"
     },
     "output_type": "display_data"
    },
    {
     "data": {
      "image/png": "[encoded data removed]",
      "text/plain": [
       "<Figure size 432x288 with 1 Axes>"
      ]
     },
     "metadata": {
      "needs_background": "light"
     },
     "output_type": "display_data"
    },
    {
     "data": {
      "image/png": "[encoded data removed]",
      "text/plain": [
       "<Figure size 432x288 with 1 Axes>"
      ]
     },
     "metadata": {
      "needs_background": "light"
     },
     "output_type": "display_data"
    },
    {
     "data": {
      "image/png": "[encoded data removed]",
      "text/plain": [
       "<Figure size 432x288 with 1 Axes>"
      ]
     },
     "metadata": {
      "needs_background": "light"
     },
     "output_type": "display_data"
    },
    {
     "data": {
      "image/png": "[encoded data removed]",
      "text/plain": [
       "<Figure size 432x288 with 1 Axes>"
      ]
     },
     "metadata": {
      "needs_background": "light"
     },
     "output_type": "display_data"
    },
    {
     "data": {
      "image/png": "[encoded data removed]",
      "text/plain": [
       "<Figure size 432x288 with 1 Axes>"
      ]
     },
     "metadata": {
      "needs_background": "light"
     },
     "output_type": "display_data"
    },
    {
     "data": {
      "image/png": "[encoded data removed]",
      "text/plain": [
       "<Figure size 432x288 with 1 Axes>"
      ]
     },
     "metadata": {
      "needs_background": "light"
     },
     "output_type": "display_data"
    }
   ],
   "source": [
    "data_cols1 = train[['gender', 's11', 's12', 's13', 's16', 's17', 's18', 's48', 's52', 'label']]\n",
    "\n",
    "for i in data_cols1.columns:\n",
    "    plt.hist(data_cols1[i])\n",
    "    plt.title(i)\n",
    "    plt.show()"
   ]
  },
  {
   "cell_type": "code",
   "execution_count": 77,
   "id": "c6ac2178",
   "metadata": {},
   "outputs": [
    {
     "data": {
      "text/plain": [
       "1    27844\n",
       "0      478\n",
       "Name: s13, dtype: int64"
      ]
     },
     "execution_count": 77,
     "metadata": {},
     "output_type": "execute_result"
    }
   ],
   "source": [
    "# It seems s13 has maximum one type of value. So lets see what effect it has on label\n",
    "\n",
    "\n",
    "train['s13'].value_counts()"
   ]
  },
  {
   "cell_type": "code",
   "execution_count": 82,
   "id": "67989132",
   "metadata": {},
   "outputs": [
    {
     "data": {
      "text/html": [
       "<div>\n",
       "<style scoped>\n",
       "    .dataframe tbody tr th:only-of-type {\n",
       "        vertical-align: middle;\n",
       "    }\n",
       "\n",
       "    .dataframe tbody tr th {\n",
       "        vertical-align: top;\n",
       "    }\n",
       "\n",
       "    .dataframe thead tr th {\n",
       "        text-align: left;\n",
       "    }\n",
       "\n",
       "    .dataframe thead tr:last-of-type th {\n",
       "        text-align: right;\n",
       "    }\n",
       "</style>\n",
       "<table border=\"1\" class=\"dataframe\">\n",
       "  <thead>\n",
       "    <tr>\n",
       "      <th></th>\n",
       "      <th colspan=\"2\" halign=\"left\">gender</th>\n",
       "      <th colspan=\"2\" halign=\"left\">id</th>\n",
       "    </tr>\n",
       "    <tr>\n",
       "      <th>s13</th>\n",
       "      <th>0</th>\n",
       "      <th>1</th>\n",
       "      <th>0</th>\n",
       "      <th>1</th>\n",
       "    </tr>\n",
       "    <tr>\n",
       "      <th>label</th>\n",
       "      <th></th>\n",
       "      <th></th>\n",
       "      <th></th>\n",
       "      <th></th>\n",
       "    </tr>\n",
       "  </thead>\n",
       "  <tbody>\n",
       "    <tr>\n",
       "      <th>0</th>\n",
       "      <td>112</td>\n",
       "      <td>23450</td>\n",
       "      <td>112</td>\n",
       "      <td>23450</td>\n",
       "    </tr>\n",
       "    <tr>\n",
       "      <th>1</th>\n",
       "      <td>366</td>\n",
       "      <td>4394</td>\n",
       "      <td>366</td>\n",
       "      <td>4394</td>\n",
       "    </tr>\n",
       "  </tbody>\n",
       "</table>\n",
       "</div>"
      ],
      "text/plain": [
       "      gender          id       \n",
       "s13        0      1    0      1\n",
       "label                          \n",
       "0        112  23450  112  23450\n",
       "1        366   4394  366   4394"
      ]
     },
     "execution_count": 82,
     "metadata": {},
     "output_type": "execute_result"
    }
   ],
   "source": [
    "pd.pivot_table(train, index = 'label',columns = 's13',values = ['id','gender'], aggfunc = 'count')"
   ]
  },
  {
   "cell_type": "code",
   "execution_count": 94,
   "id": "f1f32bfb",
   "metadata": {},
   "outputs": [
    {
     "data": {
      "image/png": "[encoded data removed]",
      "text/plain": [
       "<Figure size 432x288 with 2 Axes>"
      ]
     },
     "metadata": {
      "needs_background": "light"
     },
     "output_type": "display_data"
    }
   ],
   "source": [
    "ht = sns.heatmap(data_cols1.corr())\n"
   ]
  },
  {
   "cell_type": "code",
   "execution_count": null,
   "id": "ae83a166",
   "metadata": {},
   "outputs": [],
   "source": []
  },
  {
   "cell_type": "code",
   "execution_count": null,
   "id": "3ac7d44c",
   "metadata": {},
   "outputs": [],
   "source": []
  }
 ],
 "metadata": {
  "kernelspec": {
   "display_name": "Python 3 (ipykernel)",
   "language": "python",
   "name": "python3"
  },
  "language_info": {
   "codemirror_mode": {
    "name": "ipython",
    "version": 3
   },
   "file_extension": ".py",
   "mimetype": "text/x-python",
   "name": "python",
   "nbconvert_exporter": "python",
   "pygments_lexer": "ipython3",
   "version": "3.9.12"
  }
 },
 "nbformat": 4,
 "nbformat_minor": 5
}
