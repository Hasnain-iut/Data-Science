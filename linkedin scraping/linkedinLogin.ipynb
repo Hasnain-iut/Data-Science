{
 "cells": [
  {
   "cell_type": "code",
   "execution_count": 11,
   "id": "48889eb6",
   "metadata": {},
   "outputs": [
    {
     "name": "stderr",
     "output_type": "stream",
     "text": [
      "C:\\Users\\User\\AppData\\Local\\Temp\\ipykernel_1412\\3529043043.py:6: DeprecationWarning: executable_path has been deprecated, please pass in a Service object\n",
      "  driver = webdriver.Chrome(\"chromedriver.exe\")\n",
      "C:\\Users\\User\\AppData\\Local\\Temp\\ipykernel_1412\\3529043043.py:11: DeprecationWarning: find_element_by_xpath is deprecated. Please use find_element(by=By.XPATH, value=xpath) instead\n",
      "  username = driver.find_element_by_xpath('//*[@id=\"session_key\"]')\n",
      "C:\\Users\\User\\AppData\\Local\\Temp\\ipykernel_1412\\3529043043.py:12: DeprecationWarning: find_element_by_xpath is deprecated. Please use find_element(by=By.XPATH, value=xpath) instead\n",
      "  password = driver.find_element_by_xpath('//*[@id=\"session_password\"]')\n",
      "C:\\Users\\User\\AppData\\Local\\Temp\\ipykernel_1412\\3529043043.py:19: DeprecationWarning: find_element_by_xpath is deprecated. Please use find_element(by=By.XPATH, value=xpath) instead\n",
      "  login_btn = driver.find_element_by_xpath\\\n"
     ]
    }
   ],
   "source": [
    "from time import sleep\n",
    "from selenium import webdriver\n",
    "from selenium.webdriver.common.keys import Keys\n",
    "\n",
    "### load selenium driver\n",
    "driver = webdriver.Chrome(\"chromedriver.exe\")\n",
    "driver.get('https://linkedin.com/')\n",
    "sleep(1)\n",
    "\n",
    "### get username and password input boxes path\n",
    "username = driver.find_element_by_xpath('//*[@id=\"session_key\"]')\n",
    "password = driver.find_element_by_xpath('//*[@id=\"session_password\"]')\n",
    "\n",
    "### input the email id and password\n",
    "username.send_keys(\"hasnainkabir120@gmail.com\")\n",
    "password.send_keys(\"Nibirkabir991_\")\n",
    "\n",
    "### click the login button\n",
    "login_btn = driver.find_element_by_xpath\\\n",
    "            (\"//button[@class='sign-in-form__submit-button']\")\n",
    "sleep(1)\n",
    "login_btn.click()"
   ]
  },
  {
   "cell_type": "code",
   "execution_count": 12,
   "id": "068c62e0",
   "metadata": {},
   "outputs": [
    {
     "name": "stdout",
     "output_type": "stream",
     "text": [
      "[]\n"
     ]
    }
   ],
   "source": [
    "from bs4 import BeautifulSoup\n",
    "import requests\n",
    "def find_jobs():\n",
    "    html_text = requests.get('https://www.linkedin.com/jobs/search/?distance=25.0&geoId=104305776&keywords=data%20analyst').text\n",
    "    soup = BeautifulSoup(html_text, 'lxml')\n",
    "    # Lets find the jobs posted a few days ago only\n",
    "    jobs = soup.find_all('a', class_ = 'class=\"disabled ember-view job-card-container__link job-card-list__title\"')\n",
    "    print(jobs)\n",
    "find_jobs()"
   ]
  },
  {
   "cell_type": "code",
   "execution_count": null,
   "id": "878f797f",
   "metadata": {},
   "outputs": [],
   "source": []
  }
 ],
 "metadata": {
  "kernelspec": {
   "display_name": "Python 3 (ipykernel)",
   "language": "python",
   "name": "python3"
  },
  "language_info": {
   "codemirror_mode": {
    "name": "ipython",
    "version": 3
   },
   "file_extension": ".py",
   "mimetype": "text/x-python",
   "name": "python",
   "nbconvert_exporter": "python",
   "pygments_lexer": "ipython3",
   "version": "3.9.12"
  }
 },
 "nbformat": 4,
 "nbformat_minor": 5
}
