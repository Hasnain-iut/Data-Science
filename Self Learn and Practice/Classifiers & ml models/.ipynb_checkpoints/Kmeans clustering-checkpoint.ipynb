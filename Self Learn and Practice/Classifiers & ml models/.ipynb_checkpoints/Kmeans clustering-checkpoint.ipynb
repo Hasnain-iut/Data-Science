{
 "cells": [
  {
   "cell_type": "code",
   "execution_count": 61,
   "id": "73401108",
   "metadata": {},
   "outputs": [],
   "source": [
    "from sklearn.datasets import load_breast_cancer\n",
    "from sklearn.cluster import KMeans\n",
    "from sklearn.model_selection import train_test_split\n",
    "from sklearn.preprocessing import scale\n",
    "from sklearn.metrics import accuracy_score\n",
    "import pandas as pd"
   ]
  },
  {
   "cell_type": "code",
   "execution_count": 62,
   "id": "0d8b1623",
   "metadata": {},
   "outputs": [],
   "source": [
    "bc = load_breast_cancer()\n"
   ]
  },
  {
   "cell_type": "code",
   "execution_count": 63,
   "id": "f8e7c72c",
   "metadata": {},
   "outputs": [],
   "source": [
    "X = scale(bc.data)\n",
    "Y = bc.target"
   ]
  },
  {
   "cell_type": "code",
   "execution_count": 64,
   "id": "20eccc3e",
   "metadata": {},
   "outputs": [],
   "source": [
    "x_train, x_test, y_train, y_test = train_test_split(X,Y, test_size = 0.6)\n",
    "\n",
    "model = KMeans(n_clusters = 2, random_state=0)"
   ]
  },
  {
   "cell_type": "code",
   "execution_count": 65,
   "id": "32d97917",
   "metadata": {},
   "outputs": [
    {
     "data": {
      "text/plain": [
       "KMeans(n_clusters=2, random_state=0)"
      ]
     },
     "execution_count": 65,
     "metadata": {},
     "output_type": "execute_result"
    }
   ],
   "source": [
    "model.fit(x_train)"
   ]
  },
  {
   "cell_type": "code",
   "execution_count": 66,
   "id": "98bb549d",
   "metadata": {},
   "outputs": [],
   "source": [
    "predictions = model.predict(x_test)\n"
   ]
  },
  {
   "cell_type": "code",
   "execution_count": 67,
   "id": "a1064f35",
   "metadata": {},
   "outputs": [],
   "source": [
    "labels = model.labels_"
   ]
  },
  {
   "cell_type": "code",
   "execution_count": 70,
   "id": "72ade3de",
   "metadata": {},
   "outputs": [
    {
     "name": "stdout",
     "output_type": "stream",
     "text": [
      "labels  [1 1 0 0 1 0 1 0 1 1 1 1 1 0 1 1 0 0 1 0 1 0 1 1 0 1 1 1 0 1 1 1 1 1 1 1 0\n",
      " 0 1 0 1 1 1 1 1 1 1 1 1 1 1 1 0 1 1 0 1 1 1 1 1 1 0 0 1 1 0 1 0 1 1 0 0 1\n",
      " 1 1 0 0 0 1 1 0 1 1 1 1 1 1 1 0 0 1 1 1 1 0 1 1 1 1 1 1 0 1 1 0 0 1 1 0 1\n",
      " 0 1 1 1 1 0 1 1 1 1 0 1 1 1 0 0 0 1 1 0 1 1 1 1 1 0 1 1 1 1 1 1 1 1 0 1 1\n",
      " 1 1 1 1 1 1 1 0 1 1 0 1 1 1 1 0 1 1 1 1 0 1 1 0 0 1 0 1 0 1 1 1 0 0 1 1 1\n",
      " 1 0 0 0 0 1 0 1 1 1 1 1 1 0 1 1 0 0 0 1 1 1 1 0 1 1 0 1 1 1 1 1 1 1 0 0 0\n",
      " 1 0 0 1 1]\n",
      "predictions  [1 0 1 0 1 1 1 1 1 1 1 0 0 0 1 0 1 0 1 1 1 1 1 1 1 1 1 1 1 0 0 1 1 0 1 1 0\n",
      " 0 1 1 0 1 1 1 1 1 1 1 1 0 0 1 1 0 1 1 0 0 1 0 1 1 1 1 1 1 0 1 0 0 0 1 1 1\n",
      " 0 0 0 1 1 0 1 0 1 1 1 0 1 0 1 0 1 0 1 1 1 1 1 1 1 1 1 1 0 0 1 1 1 1 1 1 1\n",
      " 1 1 1 0 1 1 0 1 0 0 1 1 1 0 0 1 0 1 0 0 1 0 1 1 1 1 1 1 0 1 0 1 1 0 0 1 1\n",
      " 0 1 1 0 0 0 0 1 0 0 1 1 1 0 1 1 1 1 1 1 1 1 1 1 0 1 1 1 0 1 1 1 1 1 1 0 0\n",
      " 1 0 0 1 1 1 1 1 1 1 0 1 0 1 1 0 1 1 0 1 0 1 1 0 0 1 1 1 0 0 1 0 1 1 1 0 1\n",
      " 1 1 0 1 1 1 1 0 1 1 1 0 1 0 1 1 1 0 1 1 1 0 1 1 0 1 1 0 0 0 1 1 1 1 1 1 1\n",
      " 0 1 1 1 1 1 0 1 1 1 0 1 1 0 1 1 1 1 1 1 1 1 1 0 0 0 1 1 1 1 1 0 1 0 1 1 1\n",
      " 1 1 1 1 1 1 0 1 1 1 1 1 1 1 1 1 1 0 1 0 0 1 0 0 1 1 1 0 1 1 0 1 1 1 1 1 0\n",
      " 1 1 1 0 1 1 0 0 1]\n",
      "accuracy  0.9093567251461988\n",
      "actual  [1 0 1 0 1 1 1 1 1 0 0 0 0 0 1 0 1 0 1 1 1 1 1 0 1 1 1 1 1 0 0 1 1 0 0 0 0\n",
      " 0 1 1 1 1 1 1 1 1 1 1 1 0 0 1 0 0 1 1 0 0 1 0 1 1 0 0 1 1 0 0 0 0 0 1 1 0\n",
      " 0 0 0 1 1 0 1 0 1 1 1 0 1 0 0 0 1 1 1 1 1 0 1 1 1 1 1 1 0 0 1 1 1 1 1 1 1\n",
      " 1 0 1 0 1 1 0 1 0 0 1 0 1 0 0 1 0 1 0 0 1 0 1 1 1 1 1 1 0 1 0 1 1 0 0 1 1\n",
      " 0 1 1 0 0 0 0 1 0 0 1 1 1 0 1 1 1 1 1 1 1 1 1 0 0 1 1 1 0 1 1 1 1 1 1 0 0\n",
      " 1 0 0 1 1 0 1 1 1 1 0 1 0 1 0 0 1 1 0 1 0 1 1 0 0 1 1 1 0 0 0 0 1 1 1 0 1\n",
      " 1 1 0 0 1 1 1 0 1 1 1 0 1 0 1 1 1 0 1 1 1 0 0 1 0 0 1 0 0 0 1 1 1 1 1 1 1\n",
      " 0 1 1 1 1 1 0 1 1 0 0 1 1 0 1 1 1 1 1 1 1 1 0 0 0 0 1 1 1 1 0 0 1 0 1 1 1\n",
      " 0 1 1 1 1 1 0 0 1 0 1 1 1 1 1 1 1 0 1 0 0 1 0 0 1 1 1 0 1 1 1 1 1 1 1 1 0\n",
      " 1 1 1 1 1 1 0 0 1]\n"
     ]
    }
   ],
   "source": [
    "print('labels ', labels)\n",
    "print('predictions ', predictions)\n",
    "print('accuracy ', accuracy_score(y_test, predictions))\n",
    "print('actual ', y_test)"
   ]
  },
  {
   "cell_type": "code",
   "execution_count": 69,
   "id": "4cdd24fe",
   "metadata": {},
   "outputs": [
    {
     "name": "stdout",
     "output_type": "stream",
     "text": [
      "col_0   0    1\n",
      "row_0         \n",
      "0      65   20\n",
      "1       3  139\n"
     ]
    }
   ],
   "source": [
    "print(pd.crosstab(y_train, labels))"
   ]
  },
  {
   "cell_type": "code",
   "execution_count": null,
   "id": "7cac63f1",
   "metadata": {},
   "outputs": [],
   "source": []
  },
  {
   "cell_type": "code",
   "execution_count": null,
   "id": "5f24f104",
   "metadata": {},
   "outputs": [],
   "source": []
  },
  {
   "cell_type": "code",
   "execution_count": null,
   "id": "85ece511",
   "metadata": {},
   "outputs": [],
   "source": []
  }
 ],
 "metadata": {
  "kernelspec": {
   "display_name": "Python 3 (ipykernel)",
   "language": "python",
   "name": "python3"
  },
  "language_info": {
   "codemirror_mode": {
    "name": "ipython",
    "version": 3
   },
   "file_extension": ".py",
   "mimetype": "text/x-python",
   "name": "python",
   "nbconvert_exporter": "python",
   "pygments_lexer": "ipython3",
   "version": "3.9.12"
  }
 },
 "nbformat": 4,
 "nbformat_minor": 5
}
